{
 "cells": [
  {
   "cell_type": "code",
   "execution_count": null,
   "id": "c4a57090-665b-4370-8bf2-aa44481aa680",
   "metadata": {},
   "outputs": [],
   "source": [
    "import numpy as np\n",
    "import pandas as pd\n",
    "import cmath\n",
    "from sklearn.preprocessing import MinMaxScaler\n",
    "import scipy.io"
   ]
  },
  {
   "cell_type": "markdown",
   "id": "49b10af0-498e-40d5-8c67-ad68f523469a",
   "metadata": {},
   "source": [
    "### import data"
   ]
  },
  {
   "cell_type": "code",
   "execution_count": null,
   "id": "9732d1ca-fe3c-44b3-9fb5-226e95b64af9",
   "metadata": {},
   "outputs": [],
   "source": [
    "trainfile = '16QAM_8Pilots_Train.mat'\n",
    "\n",
    "bps = scipy.io.loadmat(trainfile)['bps']\n",
    "M = scipy.io.loadmat(trainfile)['M']\n",
    "nFrames = scipy.io.loadmat(trainfile)['nFrames']\n",
    "nSymbols = scipy.io.loadmat(trainfile)['nSymbols']\n",
    "nPilots = scipy.io.loadmat(trainfile)['nPilots']\n",
    "nCP = scipy.io.loadmat(trainfile)['nCP']\n",
    "SNR = scipy.io.loadmat(trainfile)['SNR']\n",
    "clipping = scipy.io.loadmat(trainfile)['clipping']\n",
    "\n",
    "train_sample = scipy.io.loadmat(trainfile)['input_samples']\n",
    "train_label = scipy.io.loadmat(trainfile)['input_labels']"
   ]
  },
  {
   "cell_type": "code",
   "execution_count": null,
   "id": "d41c04ed-e7ba-4283-994e-8bb80c91569f",
   "metadata": {},
   "outputs": [],
   "source": [
    "train_sample"
   ]
  },
  {
   "cell_type": "code",
   "execution_count": 4,
   "id": "a8747f6e-b12c-4de9-8f2a-614eeee37f87",
   "metadata": {},
   "outputs": [
    {
     "data": {
      "text/plain": [
       "array([[0, 1, 1, ..., 0, 0, 0],\n",
       "       [1, 0, 0, ..., 0, 0, 1],\n",
       "       [0, 1, 0, ..., 0, 1, 1],\n",
       "       ...,\n",
       "       [0, 1, 0, ..., 1, 1, 0],\n",
       "       [0, 1, 0, ..., 0, 0, 1],\n",
       "       [1, 0, 0, ..., 1, 0, 1]], dtype=uint8)"
      ]
     },
     "execution_count": 4,
     "metadata": {},
     "output_type": "execute_result"
    }
   ],
   "source": [
    "train_label"
   ]
  },
  {
   "cell_type": "code",
   "execution_count": null,
   "id": "9bcffd7e-ca88-4310-a0fa-66007e04acf4",
   "metadata": {},
   "outputs": [],
   "source": [
    "train_sample.shape"
   ]
  },
  {
   "cell_type": "code",
   "execution_count": null,
   "id": "0c6fe59a-a7d4-4da9-8e95-2962dcf89926",
   "metadata": {},
   "outputs": [],
   "source": [
    "train_label.shape"
   ]
  },
  {
   "cell_type": "code",
   "execution_count": null,
   "id": "92f559d5-8f6b-4489-87c0-7ef28ead273c",
   "metadata": {},
   "outputs": [],
   "source": [
    "train_label = train_label[:,0:8*bps] # get 8 symbols\n",
    "train_label.shape"
   ]
  },
  {
   "cell_type": "code",
   "execution_count": 8,
   "id": "d4cba1e4-6b74-42b8-b472-79bfe502d559",
   "metadata": {},
   "outputs": [],
   "source": [
    "from sklearn.utils import shuffle\n",
    "train_label, train_sample = shuffle(train_label, train_sample)"
   ]
  },
  {
   "cell_type": "code",
   "execution_count": null,
   "id": "fff6d4d2-4bf1-44fb-885d-8adfd9909c8a",
   "metadata": {},
   "outputs": [],
   "source": []
  },
  {
   "cell_type": "markdown",
   "id": "d267443e-aaf9-41fb-a669-6f46cc05d21a",
   "metadata": {},
   "source": [
    "### build dnn model"
   ]
  },
  {
   "cell_type": "code",
   "execution_count": 15,
   "id": "8a333a4e-ef33-4dd8-898d-5357385ef1b0",
   "metadata": {},
   "outputs": [],
   "source": [
    "import tensorflow as tf\n",
    "from tensorflow import keras\n",
    "from tensorflow.keras.models import Sequential\n",
    "from tensorflow.keras.layers import Activation, Dense, BatchNormalization, Flatten, Dropout\n",
    "from tensorflow.keras.optimizers import Adam\n",
    "from tensorflow.keras.regularizers import L1\n",
    "from tensorflow.keras.callbacks import ReduceLROnPlateau"
   ]
  },
  {
   "cell_type": "code",
   "execution_count": 31,
   "id": "b2876555-d326-41b8-969e-f189a465effa",
   "metadata": {},
   "outputs": [],
   "source": [
    "#DNN\n",
    "model = Sequential([\n",
    "    BatchNormalization(input_shape=(nSymbols*2*2,)),\n",
    "    Dense(units=500, activation='relu'),\n",
    "    BatchNormalization(),\n",
    "    Dense(units=250, activation='relu'),\n",
    "    BatchNormalization(),\n",
    "    Dense(units=120, activation='relu'),\n",
    "    BatchNormalization(),\n",
    "    Dense(units=8*bps, activation='sigmoid')\n",
    "])"
   ]
  },
  {
   "cell_type": "code",
   "execution_count": null,
   "id": "2614725f-77ee-419e-96d9-8c2d5bb4266b",
   "metadata": {},
   "outputs": [],
   "source": [
    "#RNN\n",
    "model = Sequential([\n",
    "    BatchNormalization(input_shape=(timestep, (nSymbols*2*2)//timestep)),\n",
    "    SimpleRNN(units=500, activation='relu', return_sequences=True),\n",
    "    BatchNormalization(),\n",
    "    SimpleRNN(units=250, activation='relu', return_sequences=True),\n",
    "    BatchNormalization(),\n",
    "    SimpleRNN(units=120, activation='relu'),\n",
    "    BatchNormalization(),\n",
    "    Dense(units=n_output, activation='sigmoid')\n",
    "])"
   ]
  },
  {
   "cell_type": "code",
   "execution_count": 11,
   "id": "d2815757",
   "metadata": {},
   "outputs": [],
   "source": [
    "def bit_err(y_true, y_pred):\n",
    "    err = 1 - tf.reduce_mean(\n",
    "        tf.reduce_mean(\n",
    "            tf.cast(\n",
    "                tf.equal(\n",
    "                    tf.sign(\n",
    "                        y_pred - 0.5),\n",
    "                    tf.cast(\n",
    "                        tf.sign(\n",
    "                            y_true - 0.5),\n",
    "                        tf.float32)), tf.float32),\n",
    "            1))\n",
    "    return err"
   ]
  },
  {
   "cell_type": "code",
   "execution_count": 12,
   "id": "46cab66c-ae48-4fb6-8b63-8d3daf97da88",
   "metadata": {},
   "outputs": [],
   "source": [
    "initial_learning_rate = 0.001\n",
    "lr_schedule = tf.keras.optimizers.schedules.ExponentialDecay(\n",
    "    initial_learning_rate,\n",
    "    decay_steps=5000,\n",
    "    decay_rate=0.85,\n",
    "    staircase=True)"
   ]
  },
  {
   "cell_type": "code",
   "execution_count": 27,
   "id": "145127be-6ea0-4922-b0eb-d9a252f0805f",
   "metadata": {},
   "outputs": [],
   "source": [
    "reduce_lr = ReduceLROnPlateau(monitor='val_loss', factor=0.96,\n",
    "                              patience=10, min_lr=0.00001)"
   ]
  },
  {
   "cell_type": "code",
   "execution_count": 32,
   "id": "3e39ef7e-235a-40e9-9ef9-7051355b3f0a",
   "metadata": {},
   "outputs": [],
   "source": [
    "model.compile(Adam(learning_rate=lr_schedule), loss='mse', metrics=[bit_err])\n",
    "checkpoint = callbacks.ModelCheckpoint('./temp_trained_25.h5', monitor='val_bit_err',\n",
    "                                       verbose=0, save_best_only=True, mode='min', save_weights_only=True)"
   ]
  },
  {
   "cell_type": "code",
   "execution_count": null,
   "id": "b390654a-1d5c-4e1b-bcb5-e7b746ad53f1",
   "metadata": {},
   "outputs": [],
   "source": [
    "model.fit(x=train_sample, y=train_label, validation_split=0.1, batch_size=1000, epochs=10000, shuffle=True, verbose=2, callbacks=[checkpoint])"
   ]
  },
  {
   "cell_type": "code",
   "execution_count": null,
   "id": "cdaa226f-e5f9-43d2-87c1-76cf0418fd69",
   "metadata": {},
   "outputs": [],
   "source": []
  },
  {
   "cell_type": "code",
   "execution_count": null,
   "id": "f641e40d-3a82-4171-a1ec-7d844a76c4fd",
   "metadata": {},
   "outputs": [],
   "source": []
  },
  {
   "cell_type": "markdown",
   "id": "346e4d01-f5f0-4d9c-80fd-ae384f00a164",
   "metadata": {},
   "source": [
    "### Test the model"
   ]
  },
  {
   "cell_type": "code",
   "execution_count": null,
   "id": "99972d1f-253e-4b5e-9bc4-3dce2690c5eb",
   "metadata": {},
   "outputs": [],
   "source": [
    "testfile = '16QAM_8Pilots_Test.mat'\n",
    "test_sample = scipy.io.loadmat(testfile)['input_samples']\n",
    "test_label = scipy.io.loadmat(testfile)['input_labels']"
   ]
  },
  {
   "cell_type": "code",
   "execution_count": null,
   "id": "7f48bd1a-caaf-4313-9d4c-1f744c6dad95",
   "metadata": {},
   "outputs": [],
   "source": [
    "# test\n",
    "model.load_weights('./temp_trained_25.h5')\n",
    "BER = []\n",
    "for SNR in range(5, 30, 5):\n",
    "    y = model.evaluate(\n",
    "        test_sample, test_label\n",
    "    )\n",
    "    BER.append(y[1])\n",
    "    print(y)\n",
    "print(BER)\n",
    "BER_matlab = np.array(BER)\n",
    "import scipy.io as sio\n",
    "sio.savemat('BER_16QAM_K64_8output_8pilot.mat', {'BER':BER_matlab})"
   ]
  },
  {
   "cell_type": "code",
   "execution_count": null,
   "id": "f1b6ed05-0e31-44d3-8305-3ad65359e4c2",
   "metadata": {},
   "outputs": [],
   "source": []
  },
  {
   "cell_type": "code",
   "execution_count": null,
   "id": "2a453cdb-b855-4d19-986d-a630cceee92e",
   "metadata": {},
   "outputs": [],
   "source": []
  }
 ],
 "metadata": {
  "kernelspec": {
   "display_name": "Python 3 (ipykernel)",
   "language": "python",
   "name": "python3"
  },
  "language_info": {
   "codemirror_mode": {
    "name": "ipython",
    "version": 3
   },
   "file_extension": ".py",
   "mimetype": "text/x-python",
   "name": "python",
   "nbconvert_exporter": "python",
   "pygments_lexer": "ipython3",
   "version": "3.11.8"
  }
 },
 "nbformat": 4,
 "nbformat_minor": 5
}
